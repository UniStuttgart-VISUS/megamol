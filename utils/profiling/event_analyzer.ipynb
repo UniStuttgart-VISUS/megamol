{
    "cells": [
        {
            "attachments": {},
            "cell_type": "markdown",
            "metadata": {},
            "source": [
                "get the log data"
            ]
        },
        {
            "cell_type": "code",
            "execution_count": null,
            "metadata": {},
            "outputs": [],
            "source": [
                "import pandas\n",
                "import matplotlib as plt\n",
                "import numpy as np\n",
                "\n",
                "scale_factor = 1000000\n",
                "\n",
                "pandas.set_option(\"display.max_rows\", None)\n",
                "pandas.set_option(\"display.max_colwidth\", None)\n",
                "pandas.options.display.float_format = '{:.0f}'.format\n",
                "#frames = pandas.read_csv(\"h:/data/mmmg-logs-data/sc2019/profiling_log_st.csv\", sep=\";\", quotechar=\"'\")\n",
                "raw_frames = pandas.read_csv(\"h:/data/mmmg-logs-data/sc2019/profiling_log.csv\", sep=\";\", quotechar=\"'\")"
            ]
        },
        {
            "attachments": {},
            "cell_type": "markdown",
            "metadata": {},
            "source": [
                "random sample"
            ]
        },
        {
            "cell_type": "code",
            "execution_count": null,
            "metadata": {},
            "outputs": [],
            "source": [
                "sample_row = 16753\n",
                "print(frames.loc[sample_row])\n",
                "#print(raw_frames.loc[sample_row])"
            ]
        },
        {
            "attachments": {},
            "cell_type": "markdown",
            "metadata": {},
            "source": [
                "scaling"
            ]
        },
        {
            "cell_type": "code",
            "execution_count": null,
            "metadata": {},
            "outputs": [],
            "source": [
                "frames[\"start\"] = frames[\"start\"].div(scale_factor)\n",
                "frames[\"end\"] = frames[\"end\"].div(scale_factor)\n",
                "frames[\"total_time\"] = frames[\"total_time\"].div(scale_factor)\n",
                "frames[\"self_time\"] = frames[\"self_time\"].div(scale_factor)\n",
                "raw_frames[\"duration (ns)\"] = raw_frames[\"duration (ns)\"].div(scale_factor)\n",
                "raw_frames[\"start (ns)\"] = raw_frames[\"start (ns)\"].div(scale_factor)\n",
                "raw_frames[\"end (ns)\"] = raw_frames[\"end (ns)\"].div(scale_factor)"
            ]
        },
        {
            "cell_type": "code",
            "execution_count": null,
            "metadata": {},
            "outputs": [],
            "source": [
                "print(frames.loc[sample_row])\n",
                "print(raw_frames.loc[sample_row])"
            ]
        },
        {
            "cell_type": "markdown",
            "metadata": {},
            "source": [
                "# Check self times math"
            ]
        },
        {
            "cell_type": "code",
            "execution_count": null,
            "metadata": {},
            "outputs": [],
            "source": [
                "for idx in raw_frames.index:\n",
                "    if (raw_frames[\"type\"][idx] != \"Call\"):\n",
                "        continue\n",
                "    #print(raw_frames[\"end (ns)\"][idx])\n",
                "    if raw_frames[\"end (ns)\"][idx] - raw_frames[\"start (ns)\"][idx] != raw_frames[\"duration (ns)\"][idx]:\n",
                "        print(\"mismatch\")\n",
                "    "
            ]
        },
        {
            "attachments": {},
            "cell_type": "markdown",
            "metadata": {},
            "source": [
                "# scratchpad: inspect a single frame"
            ]
        },
        {
            "cell_type": "code",
            "execution_count": null,
            "metadata": {},
            "outputs": [],
            "source": [
                "def highlighter(val):\n",
                "    color = 'red' if val.find(\"Split\") > 0 else 'black'\n",
                "    return 'color: %s' % color\n",
                "\n",
                "def error_hl(val):\n",
                "    color = 'red' if val != 1 else 'black'\n",
                "    print(\"mismatch\")\n",
                "    return 'color: %s' % color\n",
                "\n",
                "#detail_frame = frames.loc[(frames[\"frame\"] == 1190) & (frames[\"parent\"] == \"::View3DGL_1::rendering->::RaycastVolumeRenderer1::rendering\")]\n",
                "#detail_frame = raw_frames.loc[(raw_frames[\"frame\"] == 489) & (raw_frames[\"type\"] == \"Call\") & (raw_frames[\"parent\"].str.contains(\"SplitCampath\")) & (raw_frames[\"api\"] == \"OpenGL\")]\n",
                "#detail_frame = LazyFrame(raw_frames.iloc[66915:67022])\n",
                "#detail_frame = raw_frames.iloc[66915:67122]\n",
                "#detail_frame = raw_frames.iloc[:]\n",
                "detail_frame = raw_frames.loc[raw_frames[\"frame\"] == 611]\n",
                "detail_frame = detail_frame.rename(columns={\"start (ns)\": \"s_ns\", \"end (ns)\": \"e_ns\", \"duration (ns)\": \"d_orig_ns\"})\n",
                "#detail_frame = detail_frame[(detail_frame[\"api\"] == \"CPU\") & (detail_frame[\"parent\"].str.contains(\"Split\"))]\n",
                "detail_frame = detail_frame[(detail_frame[\"api\"] == \"CPU\")]\n",
                "detail_frame = detail_frame.eval('d_ns=e_ns - s_ns')\n",
                "#detail_frame\n",
                "detail_frame.style.applymap(highlighter, subset=[\"parent\"]).apply(lambda x: (x != detail_frame['d_orig_ns']).map({True: 'color: red', False: ''}), subset=['d_ns'])\n",
                "#detail_frame.style.apply(lambda x: (x != detail_frame['d_orig_ns']).map({True: 'color: red', False: ''}), subset=['d_ns'])\n"
            ]
        },
        {
            "cell_type": "code",
            "execution_count": null,
            "metadata": {},
            "outputs": [],
            "source": [
                "detail_raw_frame = raw_frames.loc[(frames[\"frame\"] == 1190) & (frames[\"parent\"] == \"::Left-Right::render2->::View3DGL_1::render\")]\n",
                "detail_raw_frame"
            ]
        },
        {
            "attachments": {},
            "cell_type": "markdown",
            "metadata": {},
            "source": [
                "find the render calls"
            ]
        },
        {
            "cell_type": "code",
            "execution_count": null,
            "metadata": {},
            "outputs": [],
            "source": [
                "gpu = frames.loc[(frames[\"parent\"] == \"::AnimationRenderer_1::observe->::ArrowRenderer1::rendering\") & (frames[\"name\"] == \"Render\") & (frames[\"api\"] == \"OpenGL\") & (frames[\"frame\"] > 0)]\n",
                "cpu = frames.loc[(frames[\"parent\"] == \"::AnimationRenderer_1::observe->::ArrowRenderer1::rendering\") & (frames[\"name\"] == \"Render\") & (frames[\"api\"] == \"CPU\") & (frames[\"frame\"] > 0)]\n",
                "\n",
                "f'gpu: {gpu.shape[0]} cpu: {cpu.shape[0]}'"
            ]
        },
        {
            "cell_type": "code",
            "execution_count": null,
            "metadata": {},
            "outputs": [],
            "source": [
                "f'min: {gpu[\"self_time\"].min() / 1000000} (at {gpu[\"self_time\"].idxmin()}) max: {gpu[\"self_time\"].max() / 1000000} (at {gpu[\"self_time\"].idxmax()}) mean: {gpu[\"self_time\"].mean() / 1000000}'"
            ]
        },
        {
            "attachments": {},
            "cell_type": "markdown",
            "metadata": {},
            "source": [
                "try to find out how values are distributed"
            ]
        },
        {
            "cell_type": "code",
            "execution_count": null,
            "metadata": {},
            "outputs": [],
            "source": [
                "gpu[\"self_time\"].hist(bins=20)\n",
                "#plt.pyplot.hist(gpu[\"self_time\"], bins=20)\n",
                "#plt.pyplot.hist(gpu[\"self_time\"], bins=np.arange(0.0,8.0,0.2))"
            ]
        },
        {
            "attachments": {},
            "cell_type": "markdown",
            "metadata": {},
            "source": [
                "# anomaly: view3dgl seems expensive"
            ]
        },
        {
            "cell_type": "code",
            "execution_count": null,
            "metadata": {},
            "outputs": [],
            "source": [
                "gpu = frames.loc[(frames[\"parent\"] == \"::Left-Right::render2->::View3DGL_1::render\") & (frames[\"name\"] == \"Render\") & (frames[\"api\"] == \"OpenGL\") & (frames[\"frame\"] == 1190)]\n",
                "cpu = frames.loc[(frames[\"parent\"] == \"::Left-Right::render2->::View3DGL_1::render\") & (frames[\"name\"] == \"Render\") & (frames[\"api\"] == \"CPU\") & (frames[\"frame\"] == 1190)]\n",
                "\n",
                "f'gpu: {gpu.shape[0]} cpu: {cpu.shape[0]}'"
            ]
        },
        {
            "cell_type": "code",
            "execution_count": null,
            "metadata": {},
            "outputs": [],
            "source": [
                "f'min: {gpu[\"self_time\"].min() / 1000000} (at {gpu[\"self_time\"].idxmin()}) max: {gpu[\"self_time\"].max() / 1000000} (at {gpu[\"self_time\"].idxmax()}) mean: {gpu[\"self_time\"].mean() / 1000000}'"
            ]
        },
        {
            "attachments": {},
            "cell_type": "markdown",
            "metadata": {},
            "source": [
                "so expensive. why?"
            ]
        },
        {
            "cell_type": "code",
            "execution_count": null,
            "metadata": {},
            "outputs": [],
            "source": [
                "detail = raw_frames.loc[(frames[\"frame\"] == 1190) & (frames[\"parent\"] == \"::Left-Right::render2->::View3DGL_1::render\")]\n",
                "detail"
            ]
        },
        {
            "cell_type": "code",
            "execution_count": null,
            "metadata": {},
            "outputs": [],
            "source": [
                "gpu[\"self_time\"].hist(bins=20)"
            ]
        },
        {
            "attachments": {},
            "cell_type": "markdown",
            "metadata": {},
            "source": [
                "# anomaly: why is view3dgl_1 called twice in frame 1190? (not anymore)"
            ]
        },
        {
            "cell_type": "code",
            "execution_count": null,
            "metadata": {},
            "outputs": [],
            "source": [
                "detail_frame = frames.loc[(frames[\"frame\"] == 1190) & (frames[\"parent\"] == \"::Left-Right::render2->::View3DGL_1::render\")]\n",
                "detail_frame"
            ]
        },
        {
            "attachments": {},
            "cell_type": "markdown",
            "metadata": {},
            "source": [
                "# answer: because we had an old project that had two active views at the same time\n",
                "\n",
                "(immediately visible in the call details)"
            ]
        },
        {
            "attachments": {},
            "cell_type": "markdown",
            "metadata": {},
            "source": [
                "# anomaly: why is there two ::View3DGL_1::rendering->::RaycastVolumeRenderer1::rendering\tGetExtents\tper frame?"
            ]
        },
        {
            "cell_type": "code",
            "execution_count": null,
            "metadata": {},
            "outputs": [],
            "source": [
                "detail_raw_frame = raw_frames.loc[(frames[\"frame\"] == 1190) & (frames[\"parent\"] == \"::View3DGL_1::rendering->::RaycastVolumeRenderer1::rendering\")]\n",
                "detail_raw_frame"
            ]
        },
        {
            "attachments": {},
            "cell_type": "markdown",
            "metadata": {},
            "source": [
                "## but the splitview only calls it once"
            ]
        },
        {
            "cell_type": "code",
            "execution_count": null,
            "metadata": {},
            "outputs": [],
            "source": [
                "detail_raw_frame = raw_frames.loc[(frames[\"frame\"] == 1190) & (frames[\"parent\"] == \"::Left-Right::render2->::View3DGL_1::render\")]\n",
                "detail_raw_frame"
            ]
        },
        {
            "attachments": {},
            "cell_type": "markdown",
            "metadata": {},
            "source": [
                "# answer: for some reason the views all call getextents twice\n",
                "\n",
                "this might just be a bug"
            ]
        },
        {
            "attachments": {},
            "cell_type": "markdown",
            "metadata": {},
            "source": [
                "# why are late frames cheaper than middle ones?\n",
                "\n",
                "ex: 1465 vs. 1832\n",
                "\n",
                "guess: you see less arrows on the bottom right view\n",
                "\n",
                "in the graph diff it looks like raycast and arrows got more expensive...? should be the other way around"
            ]
        },
        {
            "attachments": {},
            "cell_type": "markdown",
            "metadata": {},
            "source": [
                "# why is frame 611 so crazy expensive?\n",
                "\n",
                "the graph does not seem to say?"
            ]
        },
        {
            "attachments": {},
            "cell_type": "markdown",
            "metadata": {},
            "source": [
                "# hiccups\n",
                "\n",
                "ex: arrowrenderer at frame 1199. why? rest of the graph is not affected as much. splom and parco also get a bit slower though"
            ]
        }
    ],
    "metadata": {
        "kernelspec": {
            "display_name": "Python 3",
            "language": "python",
            "name": "python3"
        },
        "language_info": {
            "codemirror_mode": {
                "name": "ipython",
                "version": 3
            },
            "file_extension": ".py",
            "mimetype": "text/x-python",
            "name": "python",
            "nbconvert_exporter": "python",
            "pygments_lexer": "ipython3",
            "version": "3.10.11"
        },
        "orig_nbformat": 4
    },
    "nbformat": 4,
    "nbformat_minor": 2
}